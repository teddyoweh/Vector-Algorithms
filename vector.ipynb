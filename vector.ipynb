{
 "cells": [
  {
   "cell_type": "code",
   "execution_count": 21,
   "metadata": {},
   "outputs": [],
   "source": [
    "import math\n",
    "class Vector:\n",
    "    def __init__(self) :\n",
    "      pass\n",
    " \n",
    "    def inputs(self,u,v):\n",
    "        self.u = u\n",
    "        self.v = v\n",
    "        vu = u.split(',')\n",
    "        self.vu =list(map(int,vu))\n",
    "        vv = v.split(',')\n",
    "        self.vv = list(map(int,vv))\n",
    "    def print(self):\n",
    "        vu = self.vu\n",
    "        vv = self.vv\n",
    "        out = '<{},{}> & <{},{}> '.format(vu[0],vu[1],vv[0],vv[1])\n",
    "        print(out)\n",
    "    def Magnitude(self,u):\n",
    "        vu = u.split(',')\n",
    "        vu =list(map(int,vu))\n",
    "        wh = (vu[0]**2)+(vu[1]**2)\n",
    "        mag = math.sqrt(wh)\n",
    "        return mag\n",
    "    def DotProduct(self):\n",
    "        \n",
    "        vu = self.vu\n",
    "        vv = self.vv\n",
    "        ians = (vu[0]*vv[0])+(vu[1]*vv[1])\n",
    "        return ians\n",
    "\n",
    "    def  Angle(self):\n",
    "\n",
    "        pro = self.DotProduct( )\n",
    "        um =  self.Magnitude(self.u)\n",
    "        vm = self.Magnitude(self.v)\n",
    "        vum = um*vm\n",
    "        tar = pro/vum\n",
    "        ans = math.acos(tar)\n",
    "        return math.degrees(ans)"
   ]
  },
  {
   "cell_type": "code",
   "execution_count": 22,
   "metadata": {},
   "outputs": [],
   "source": [
    "vec = Vector() # Initialization\n",
    " # Calculates the angle of the between vectors\n"
   ]
  },
  {
   "cell_type": "code",
   "execution_count": 23,
   "metadata": {},
   "outputs": [],
   "source": [
    "vec.inputs('3,-5','8,12') # Parsing input vectors\n"
   ]
  },
  {
   "cell_type": "code",
   "execution_count": 24,
   "metadata": {},
   "outputs": [
    {
     "data": {
      "text/plain": [
       "6.4031242374328485"
      ]
     },
     "execution_count": 24,
     "metadata": {},
     "output_type": "execute_result"
    }
   ],
   "source": [
    "vec.Magnitude('4,5') # Calculate the magnitude of the vector parse\n"
   ]
  },
  {
   "cell_type": "code",
   "execution_count": 25,
   "metadata": {},
   "outputs": [
    {
     "data": {
      "text/plain": [
       "-36"
      ]
     },
     "execution_count": 25,
     "metadata": {},
     "output_type": "execute_result"
    }
   ],
   "source": [
    "vec.DotProduct() #Calculates the dot product of the vectors parsed\n"
   ]
  },
  {
   "cell_type": "code",
   "execution_count": 26,
   "metadata": {},
   "outputs": [
    {
     "data": {
      "text/plain": [
       "115.3461759419467"
      ]
     },
     "execution_count": 26,
     "metadata": {},
     "output_type": "execute_result"
    }
   ],
   "source": [
    "vec.Angle()"
   ]
  },
  {
   "cell_type": "code",
   "execution_count": 27,
   "metadata": {},
   "outputs": [
    {
     "name": "stdout",
     "output_type": "stream",
     "text": [
      "<3,-5> & <8,12> \n"
     ]
    }
   ],
   "source": [
    "vec.print()"
   ]
  }
 ],
 "metadata": {
  "interpreter": {
   "hash": "916dbcbb3f70747c44a77c7bcd40155683ae19c65e1c03b4aa3499c5328201f1"
  },
  "kernelspec": {
   "display_name": "Python 3.8.10 64-bit",
   "language": "python",
   "name": "python3"
  },
  "language_info": {
   "codemirror_mode": {
    "name": "ipython",
    "version": 3
   },
   "file_extension": ".py",
   "mimetype": "text/x-python",
   "name": "python",
   "nbconvert_exporter": "python",
   "pygments_lexer": "ipython3",
   "version": "3.8.10"
  },
  "orig_nbformat": 4
 },
 "nbformat": 4,
 "nbformat_minor": 2
}
